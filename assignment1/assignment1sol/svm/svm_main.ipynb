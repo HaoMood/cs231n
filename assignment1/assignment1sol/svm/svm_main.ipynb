{
 "cells": [
  {
   "cell_type": "markdown",
   "metadata": {},
   "source": [
    "# Multiclass Support Vector Machine exercise\n",
    "\n",
    "*Complete and hand in this completed worksheet (including its outputs and any supporting code outside of the worksheet) with your assignment submission. For more details see the [assignments page](http://vision.stanford.edu/teaching/cs231n/assignments.html) on the course website.*\n",
    "\n",
    "In this exercise you will:\n",
    "    \n",
    "- implement a fully-vectorized **loss function** for the SVM\n",
    "- implement the fully-vectorized expression for its **analytic gradient**\n",
    "- **check your implementation** using numerical gradient\n",
    "- use a validation set to **tune the learning rate and regularization** strength\n",
    "- **optimize** the loss function with **SGD**\n",
    "- **visualize** the final learned weights"
   ]
  },
  {
   "cell_type": "code",
   "execution_count": 2,
   "metadata": {
    "collapsed": false
   },
   "outputs": [],
   "source": [
    "# Run some setup code\n",
    "import numpy as np\n",
    "import matplotlib.pyplot as plt\n",
    "\n",
    "# This is a bit of magic to make matplotlib figures appear inline in the notebook\n",
    "# rather than in a new window.\n",
    "%matplotlib inline\n",
    "plt.rcParams['figure.figsize'] = (10.0, 8.0) # set default size of plots\n",
    "plt.rcParams['image.interpolation'] = 'nearest'\n",
    "plt.rcParams['image.cmap'] = 'gray'\n",
    "\n",
    "# Some more magic so that the notebook will reload external python modules;\n",
    "# see http://stackoverflow.com/questions/1907993/autoreload-of-modules-in-ipython\n",
    "%load_ext autoreload\n",
    "%autoreload 2\n",
    "\n",
    "# bool var. to let program show debug info.\n",
    "debug = True\n",
    "show_img = True"
   ]
  },
  {
   "cell_type": "markdown",
   "metadata": {},
   "source": [
    "## CIFAR-10 Data Loading and Preprocessing"
   ]
  },
  {
   "cell_type": "code",
   "execution_count": 3,
   "metadata": {
    "collapsed": false
   },
   "outputs": [
    {
     "name": "stdout",
     "output_type": "stream",
     "text": [
      "Cifar-10 dataset has been loaded\n",
      "X shape (50000, 32, 32, 3)\n",
      "y shape (50000,)\n",
      "X_test shape (10000, 32, 32, 3)\n",
      "y_test shape (10000,)\n"
     ]
    }
   ],
   "source": [
    "import cifar10\n",
    "# Load the raw CIFAR-10 data\n",
    "X, y, X_test, y_test = cifar10.load('../cifar-10-batches-py', debug = debug)"
   ]
  },
  {
   "cell_type": "code",
   "execution_count": null,
   "metadata": {
    "collapsed": false
   },
   "outputs": [],
   "source": [
    "# Visualize some examples from the dataset.\n",
    "# We show a few examples of training images from each class.\n",
    "if show_img:\n",
    "    cifar10.show(X, y)"
   ]
  },
  {
   "cell_type": "code",
   "execution_count": 4,
   "metadata": {
    "collapsed": false
   },
   "outputs": [
    {
     "name": "stdout",
     "output_type": "stream",
     "text": [
      "Data has been splited.\n",
      "X shape (49000, 32, 32, 3)\n",
      "y shape (49000,)\n",
      "X_val shape (1000, 32, 32, 3)\n",
      "y_val shape (1000,)\n",
      "X_test shape (1000, 32, 32, 3)\n",
      "y_test shape (1000,)\n",
      "X_dev shape (500, 32, 32, 3)\n",
      "y_dev shape (500,)\n",
      "Data has been reshaped.\n",
      "X shape (49000, 3072)\n",
      "X_val shape (1000, 3072)\n",
      "X_test shape (1000, 3072)\n",
      "X_dev shape (500, 3072)\n"
     ]
    },
    {
     "data": {
      "image/png": "[encoded data removed]",
      "text/plain": [
       "<matplotlib.figure.Figure at 0x7fef9ade1f90>"
      ]
     },
     "metadata": {},
     "output_type": "display_data"
    }
   ],
   "source": [
    "m = 49000\n",
    "m_val = 1000\n",
    "m_test = 1000\n",
    "m_dev = 500\n",
    "\n",
    "X, y, X_test, y_test, X_dev, y_dev, X_val, y_val = cifar10.split_vec(X, y, X_test, y_test, m, m_test, m_val, m_dev, debug = debug, show_img = show_img)"
   ]
  },
  {
   "cell_type": "markdown",
   "metadata": {},
   "source": [
    "## SVM Classifier"
   ]
  },
  {
   "cell_type": "code",
   "execution_count": 25,
   "metadata": {
    "collapsed": false
   },
   "outputs": [
    {
     "name": "stdout",
     "output_type": "stream",
     "text": [
      "\n",
      "Gradient check on W\n",
      "rel. err. 5.18469973511e-09 numerical: -3.23444771437 analytical: -3.23444768083\n",
      "rel. err. 1.55677584771e-08 numerical: -33.5642369387 analytical: -33.5642358936\n",
      "rel. err. 1.63261903783e-08 numerical: 9.14380677548 analytical: 9.14380647691\n",
      "rel. err. 1.34488179891e-08 numerical: -17.314154449 analytical: -17.3141539833\n",
      "rel. err. 1.53132057952e-08 numerical: 33.2250007347 analytical: 33.2249997172\n",
      "rel. err. 4.71504552887e-09 numerical: 2.5969588572 analytical: 2.59695883271\n",
      "rel. err. 1.49097758751e-08 numerical: 18.0245769795 analytical: 18.024576442\n",
      "rel. err. 1.67213753874e-08 numerical: 17.6633891429 analytical: 17.6633885522\n",
      "rel. err. 1.4274713547e-08 numerical: 7.68535273474 analytical: 7.68535251533\n",
      "rel. err. 2.16489244462e-08 numerical: 9.94218844887 analytical: 9.9421880184\n",
      "\n",
      "Gradient check on b\n",
      "rel. err. 4.25386921134e-07 numerical: 0.113999999929 analytical: 0.114\n",
      "rel. err. 2.67387538391e-06 numerical: -0.0240000000318 analytical: -0.0239999\n",
      "rel. err. 6.19307162004e-07 numerical: 0.10399999999 analytical: 0.104\n",
      "rel. err. 5.73258707783e-07 numerical: -0.107999999965 analytical: -0.108\n",
      "rel. err. 5.99106643526e-07 numerical: 0.108000000054 analytical: 0.108\n",
      "rel. err. 2.67387538391e-06 numerical: -0.0240000000318 analytical: -0.0239999\n",
      "rel. err. 5.73258707783e-07 numerical: -0.107999999965 analytical: -0.108\n",
      "rel. err. 3.37153263506e-07 numerical: -0.160000000005 analytical: -0.16\n",
      "rel. err. 4.25386921134e-07 numerical: 0.113999999929 analytical: 0.114\n",
      "rel. err. 2.67387538391e-06 numerical: -0.0240000000318 analytical: -0.0239999\n",
      "\n",
      "Gradient check on W\n",
      "rel. err. 1.809932526e-08 numerical: 11.5703841925 analytical: 11.5703837737\n",
      "rel. err. 2.18865852521e-08 numerical: -7.39950084201 analytical: -7.39950051811\n",
      "rel. err. 1.57307564699e-08 numerical: -9.50361468037 analytical: -9.50361497937\n",
      "rel. err. 4.33620634141e-09 numerical: 2.7622264299 analytical: 2.76222645385\n",
      "rel. err. 2.79177822121e-08 numerical: -15.2973349358 analytical: -15.2973340817\n",
      "rel. err. 1.02135035816e-08 numerical: 3.99730338092 analytical: 3.99730329927\n",
      "rel. err. 4.99686004463e-09 numerical: 5.72975819901 analytical: 5.72975825628\n",
      "rel. err. 1.12359672682e-07 numerical: 1.64713409125 analytical: 1.6471344614\n",
      "rel. err. 4.12921906009e-09 numerical: 7.08524788804 analytical: 7.08524794655\n",
      "rel. err. 1.92344934116e-08 numerical: 28.0041338966 analytical: 28.0041328193\n",
      "\n",
      "Gradient check on b\n",
      "rel. err. 2.42241769235e-06 numerical: -0.025999999842 analytical: -0.0259999\n",
      "rel. err. 1.81518146127e-06 numerical: -0.0259999999308 analytical: -0.0259999\n",
      "rel. err. 1.38850363731e-05 numerical: -0.00399999997569 analytical: -0.00399989\n",
      "rel. err. 2.91926858676e-06 numerical: 0.0219999999551 analytical: 0.0220001\n",
      "rel. err. 6.19307162004e-07 numerical: 0.10399999999 analytical: 0.104\n",
      "rel. err. 1.81518146127e-06 numerical: -0.0259999999308 analytical: -0.0259999\n",
      "rel. err. 5.99106643526e-07 numerical: 0.108000000054 analytical: 0.108\n",
      "rel. err. 2.67387538391e-06 numerical: -0.0240000000318 analytical: -0.0239999\n",
      "rel. err. 3.37153263506e-07 numerical: -0.160000000005 analytical: -0.16\n",
      "rel. err. 2.67387538391e-06 numerical: -0.0240000000318 analytical: -0.0239999\n"
     ]
    }
   ],
   "source": [
    "from svm import SVM\n",
    "n = X_test.shape[1]\n",
    "K = 10\n",
    "\n",
    "# Gradient check it with the function we provided for you.\n",
    "model = SVM(n, K) \n",
    "lamda = 0.0\n",
    "model.train_check(X_dev, y_dev, lamda)\n",
    "\n",
    "# do thee gradient check once again with regularization turned on\n",
    "# you didn't forget the regularization gradient did you?\n",
    "lamda = 1e2\n",
    "model.train_check(X_dev, y_dev, lamda)"
   ]
  },
  {
   "cell_type": "markdown",
   "metadata": {
    "collapsed": true
   },
   "source": [
    "### Inline Question 1:\n",
    "It is possible that once in a while a dimension in the gradcheck will not match exactly. What could such a discrepancy be caused by? Is it a reason for concern? What is a simple example in one dimension where a gradient check could fail? *Hint: the SVM loss function is not strictly speaking differentiable*\n",
    "\n",
    "**Your Answer:** In SVM loss function, it has a max. function max(0, s). When s is near 0, then the grad. might not match perfectly."
   ]
  },
  {
   "cell_type": "code",
   "execution_count": 6,
   "metadata": {
    "collapsed": false
   },
   "outputs": [
    {
     "name": "stdout",
     "output_type": "stream",
     "text": [
      "iteration 0 / 1500: loss 17.420503\n",
      "iteration 100 / 1500: loss 8.029550\n",
      "iteration 200 / 1500: loss 6.342209\n",
      "iteration 300 / 1500: loss 5.533874\n",
      "iteration 400 / 1500: loss 5.113333\n",
      "iteration 500 / 1500: loss 5.274397\n",
      "iteration 600 / 1500: loss 5.227377\n",
      "iteration 700 / 1500: loss 4.887976\n",
      "iteration 800 / 1500: loss 5.008692\n",
      "iteration 900 / 1500: loss 5.353317\n",
      "iteration 1000 / 1500: loss 5.149186\n",
      "iteration 1100 / 1500: loss 5.434194\n",
      "iteration 1200 / 1500: loss 5.300806\n",
      "iteration 1300 / 1500: loss 5.498750\n",
      "iteration 1400 / 1500: loss 4.983089\n"
     ]
    },
    {
     "data": {
      "image/png": "[encoded data removed]",
      "text/plain": [
       "<matplotlib.figure.Figure at 0x7fef9a4c8950>"
      ]
     },
     "metadata": {},
     "output_type": "display_data"
    }
   ],
   "source": [
    "# Next implement the function svm_loss_vectorized; for now only compute the loss;\n",
    "alpha = 1e-7\n",
    "lamda = 5e4\n",
    "T = 1500\n",
    "B = 256\n",
    "hpara = (alpha, lamda, T, B)\n",
    "model.train(X, y, hpara)"
   ]
  },
  {
   "cell_type": "code",
   "execution_count": 7,
   "metadata": {
    "collapsed": false
   },
   "outputs": [
    {
     "name": "stdout",
     "output_type": "stream",
     "text": [
      "training acc: 0.369510204082\n",
      "val. acc: 0.38\n"
     ]
    }
   ],
   "source": [
    "# Write the predict function and evaluate the performance on both the\n",
    "# training and validation set\n",
    "y_hat = model.predict(X)\n",
    "print 'training acc:', np.mean(y == y_hat)\n",
    "y_val_hat = model.predict(X_val)\n",
    "print 'val. acc:', np.mean(y_val == y_val_hat)"
   ]
  },
  {
   "cell_type": "code",
   "execution_count": 29,
   "metadata": {
    "collapsed": false
   },
   "outputs": [
    {
     "name": "stdout",
     "output_type": "stream",
     "text": [
      "alpha = 1e-08 lamda = 3000.0 train_acc = 0.366142857143 val_acc = 0.382\n",
      "alpha = 3e-08 lamda = 3000.0 train_acc = 0.384285714286 val_acc = 0.392\n",
      "alpha = 1e-07 lamda = 3000.0 train_acc = 0.401469387755 val_acc = 0.404\n",
      "alpha = 3e-07 lamda = 3000.0 train_acc = 0.395959183673 val_acc = 0.38\n"
     ]
    }
   ],
   "source": [
    "# Use the validation set to tune hyperparameters (regularization strength and\n",
    "# learning rate). You should experiment with different ranges for the learning\n",
    "# rates and regularization strengths; if you are careful you should be able to\n",
    "# get a classification accuracy of about 0.4 on the validation set.\n",
    "\n",
    "# results is dictionary mapping tuples of the form\n",
    "# (learning_rate, regularization_strength) to tuples of the form\n",
    "# (training_accuracy, validation_accuracy). The accuracy is simply the fraction\n",
    "# of data points that are correctly classified.\n",
    "results = {}\n",
    "best_val = -1\n",
    "best_model = None\n",
    "best_hpara = None\n",
    "\n",
    "# Write code that chooses the best hyperparameters by tuning on the validation \n",
    "# set. For each combination of hyperparameters, train a linear SVM on the      \n",
    "# training set, compute its accuracy on the training and validation sets, and  \n",
    "# store these numbers in the results dictionary. In addition, store the best   \n",
    "# validation accuracy in best_val and the LinearSVM object that achieves this  \n",
    "# accuracy in best_svm.                                                        \n",
    "#                                                                              \n",
    "# Hint: You should use a small value for num_iters as you develop your         \n",
    "# validation code so that the SVMs don't take much time to train; once you are \n",
    "# confident that your validation code works, you should rerun the validation   \n",
    "# code with a larger value for num_iters. \n",
    "T = 1500\n",
    "B = 256\n",
    "lamda = 3e3\n",
    "for alpha in [1e-8, 3e-8, 1e-7, 3e-7]:\n",
    "    model = SVM(n, K)\n",
    "    hpara = (alpha, lamda, T, B)\n",
    "    model.train(X, y, hpara, show_img = False, debug = False)\n",
    "    \n",
    "    y_hat = model.predict(X)\n",
    "    train_acc = np.mean(y == y_hat)\n",
    "    y_val_hat = model.predict(X_val)\n",
    "    val_acc = np.mean(y_val == y_val_hat)\n",
    "    results[(alpha, lamda)] = (train_acc, val_acc)\n",
    "    print 'alpha =', alpha, 'lamda =', lamda, 'train_acc =', train_acc, 'val_acc =', val_acc\n",
    "    \n",
    "    if val_acc > best_val:\n",
    "        best_model = model\n",
    "        best_val = val_acc\n",
    "        best_hpara = hpara\n",
    "    "
   ]
  },
  {
   "cell_type": "code",
   "execution_count": 28,
   "metadata": {
    "collapsed": false
   },
   "outputs": [
    {
     "name": "stdout",
     "output_type": "stream",
     "text": [
      "best val. acc. 0.404 hpara (1e-07, 3000.0, 1500, 256)\n"
     ]
    }
   ],
   "source": [
    "# Print out results.\n",
    "print 'best val. acc.', best_val, 'hpara', best_hpara"
   ]
  },
  {
   "cell_type": "code",
   "execution_count": 21,
   "metadata": {
    "collapsed": false
   },
   "outputs": [
    {
     "data": {
      "text/plain": [
       "<matplotlib.text.Text at 0x7fef93796790>"
      ]
     },
     "execution_count": 21,
     "metadata": {},
     "output_type": "execute_result"
    },
    {
     "data": {
      "image/png": "[encoded data removed]",
      "text/plain": [
       "<matplotlib.figure.Figure at 0x7fef93921bd0>"
      ]
     },
     "metadata": {},
     "output_type": "display_data"
    }
   ],
   "source": [
    "# Visualize the val. results\n",
    "import math\n",
    "x_scatter = [math.log10(x[0]) for x in results]\n",
    "y_scatter = [math.log10(x[1]) for x in results]\n",
    "\n",
    "# plot train acc.\n",
    "marker_size = 100\n",
    "colors = [results[x][0] for x in results]\n",
    "plt.subplot(2, 1, 1)\n",
    "plt.scatter(x_scatter, y_scatter, marker_size, c = colors)\n",
    "plt.colorbar()\n",
    "plt.xlabel('log alpha')\n",
    "plt.ylabel('log lamda')\n",
    "plt.title('cifar-10 train acc.')\n",
    "\n",
    "# plot val acc.\n",
    "colors = [results[x][1] for x in results]\n",
    "plt.subplot(2, 1, 2)\n",
    "plt.scatter(x_scatter, y_scatter, marker_size, c = colors)\n",
    "plt.colorbar()\n",
    "plt.xlabel('log alpha')\n",
    "plt.ylabel('log lamda')\n",
    "plt.title('cifar-10 val. acc.')"
   ]
  },
  {
   "cell_type": "code",
   "execution_count": 22,
   "metadata": {
    "collapsed": false
   },
   "outputs": [
    {
     "name": "stdout",
     "output_type": "stream",
     "text": [
      "best test acc 0.393\n"
     ]
    }
   ],
   "source": [
    "# Evaluate the best svm on test set\n",
    "y_test_hat = best_model.predict(X_test)\n",
    "test_acc = np.mean(y_test == y_test_hat)\n",
    "print 'best test acc', test_acc"
   ]
  },
  {
   "cell_type": "code",
   "execution_count": 30,
   "metadata": {
    "collapsed": false
   },
   "outputs": [
    {
     "ename": "NameError",
     "evalue": "global name 'best_model' is not defined",
     "output_type": "error",
     "traceback": [
      "\u001b[1;31m---------------------------------------------------------------------------\u001b[0m",
      "\u001b[1;31mNameError\u001b[0m                                 Traceback (most recent call last)",
      "\u001b[1;32m<ipython-input-30-fa3eae9ab12b>\u001b[0m in \u001b[0;36m<module>\u001b[1;34m()\u001b[0m\n\u001b[0;32m      2\u001b[0m \u001b[1;31m# Depending on your choice of alpha and lamda\u001b[0m\u001b[1;33m\u001b[0m\u001b[1;33m\u001b[0m\u001b[0m\n\u001b[0;32m      3\u001b[0m \u001b[1;31m# They may be or may not be nice to look at\u001b[0m\u001b[1;33m\u001b[0m\u001b[1;33m\u001b[0m\u001b[0m\n\u001b[1;32m----> 4\u001b[1;33m \u001b[0mmodel\u001b[0m\u001b[1;33m.\u001b[0m\u001b[0mvisualize_W\u001b[0m\u001b[1;33m(\u001b[0m\u001b[1;33m)\u001b[0m\u001b[1;33m\u001b[0m\u001b[0m\n\u001b[0m",
      "\u001b[1;32m/home/hao/university/study/cs/data_science/cs231n_cnn_for_visual_recognition/homework/assignment1/assignment1sol/svm/svm.py\u001b[0m in \u001b[0;36mvisualize_W\u001b[1;34m(self)\u001b[0m\n\u001b[0;32m    134\u001b[0m \u001b[1;33m\u001b[0m\u001b[0m\n\u001b[0;32m    135\u001b[0m     \u001b[1;32mdef\u001b[0m \u001b[0mvisualize_W\u001b[0m\u001b[1;33m(\u001b[0m\u001b[0mself\u001b[0m\u001b[1;33m)\u001b[0m\u001b[1;33m:\u001b[0m\u001b[1;33m\u001b[0m\u001b[0m\n\u001b[1;32m--> 136\u001b[1;33m         \u001b[0mW\u001b[0m \u001b[1;33m=\u001b[0m \u001b[0mbest_model\u001b[0m\u001b[1;33m.\u001b[0m\u001b[0mW\u001b[0m\u001b[1;33m.\u001b[0m\u001b[0mreshape\u001b[0m\u001b[1;33m(\u001b[0m\u001b[1;36m32\u001b[0m\u001b[1;33m,\u001b[0m \u001b[1;36m32\u001b[0m\u001b[1;33m,\u001b[0m \u001b[1;36m3\u001b[0m\u001b[1;33m,\u001b[0m \u001b[1;36m10\u001b[0m\u001b[1;33m)\u001b[0m\u001b[1;33m\u001b[0m\u001b[0m\n\u001b[0m\u001b[0;32m    137\u001b[0m         \u001b[0mW_min\u001b[0m\u001b[1;33m,\u001b[0m \u001b[0mW_max\u001b[0m \u001b[1;33m=\u001b[0m \u001b[0mnp\u001b[0m\u001b[1;33m.\u001b[0m\u001b[0mmin\u001b[0m\u001b[1;33m(\u001b[0m\u001b[0mW\u001b[0m\u001b[1;33m)\u001b[0m\u001b[1;33m,\u001b[0m \u001b[0mnp\u001b[0m\u001b[1;33m.\u001b[0m\u001b[0mmax\u001b[0m\u001b[1;33m(\u001b[0m\u001b[0mW\u001b[0m\u001b[1;33m)\u001b[0m\u001b[1;33m\u001b[0m\u001b[0m\n\u001b[0;32m    138\u001b[0m         \u001b[0mclasses\u001b[0m \u001b[1;33m=\u001b[0m \u001b[1;33m[\u001b[0m\u001b[1;34m'plane'\u001b[0m\u001b[1;33m,\u001b[0m \u001b[1;34m'car'\u001b[0m\u001b[1;33m,\u001b[0m \u001b[1;34m'bird'\u001b[0m\u001b[1;33m,\u001b[0m \u001b[1;34m'cat'\u001b[0m\u001b[1;33m,\u001b[0m \u001b[1;34m'deer'\u001b[0m\u001b[1;33m,\u001b[0m \u001b[1;34m'dog'\u001b[0m\u001b[1;33m,\u001b[0m \u001b[1;34m'frog'\u001b[0m\u001b[1;33m,\u001b[0m \u001b[1;34m'horse'\u001b[0m\u001b[1;33m,\u001b[0m \u001b[1;34m'ship'\u001b[0m\u001b[1;33m,\u001b[0m \u001b[1;34m'truck'\u001b[0m\u001b[1;33m]\u001b[0m\u001b[1;33m\u001b[0m\u001b[0m\n",
      "\u001b[1;31mNameError\u001b[0m: global name 'best_model' is not defined"
     ]
    }
   ],
   "source": [
    "# Visualize the learned alpha for each class\n",
    "# Depending on your choice of alpha and lamda\n",
    "# They may be or may not be nice to look at\n",
    "best_model.visualize_W()"
   ]
  },
  {
   "cell_type": "code",
   "execution_count": null,
   "metadata": {
    "collapsed": true
   },
   "outputs": [],
   "source": []
  }
 ],
 "metadata": {
  "kernelspec": {
   "display_name": "Python 2",
   "language": "python",
   "name": "python2"
  },
  "language_info": {
   "codemirror_mode": {
    "name": "ipython",
    "version": 2
   },
   "file_extension": ".py",
   "mimetype": "text/x-python",
   "name": "python",
   "nbconvert_exporter": "python",
   "pygments_lexer": "ipython2",
   "version": "2.7.11"
  }
 },
 "nbformat": 4,
 "nbformat_minor": 0
}
